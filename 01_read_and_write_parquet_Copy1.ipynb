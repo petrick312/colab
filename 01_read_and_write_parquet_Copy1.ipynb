{
  "cells": [
    {
      "cell_type": "markdown",
      "metadata": {
        "id": "view-in-github",
        "colab_type": "text"
      },
      "source": [
        "<a href=\"https://colab.research.google.com/github/petrick312/colab/blob/main/01_read_and_write_parquet_Copy1.ipynb\" target=\"_parent\"><img src=\"https://colab.research.google.com/assets/colab-badge.svg\" alt=\"Open In Colab\"/></a>"
      ]
    },
    {
      "cell_type": "code",
      "execution_count": 1,
      "metadata": {
        "colab": {
          "base_uri": "https://localhost:8080/"
        },
        "id": "s2U0y6_MtZ9I",
        "outputId": "8803ba1c-ab2a-4640-f174-4ed189822367"
      },
      "outputs": [
        {
          "output_type": "stream",
          "name": "stdout",
          "text": [
            "Get:1 https://cloud.r-project.org/bin/linux/ubuntu jammy-cran40/ InRelease [3,626 B]\n",
            "Hit:2 http://archive.ubuntu.com/ubuntu jammy InRelease\n",
            "Get:3 https://developer.download.nvidia.com/compute/cuda/repos/ubuntu2204/x86_64  InRelease [1,581 B]\n",
            "Get:4 http://archive.ubuntu.com/ubuntu jammy-updates InRelease [128 kB]\n",
            "Get:5 http://security.ubuntu.com/ubuntu jammy-security InRelease [129 kB]\n",
            "Hit:6 http://archive.ubuntu.com/ubuntu jammy-backports InRelease\n",
            "Hit:7 https://ppa.launchpadcontent.net/c2d4u.team/c2d4u4.0+/ubuntu jammy InRelease\n",
            "Hit:8 https://ppa.launchpadcontent.net/deadsnakes/ppa/ubuntu jammy InRelease\n",
            "Get:9 https://developer.download.nvidia.com/compute/cuda/repos/ubuntu2204/x86_64  Packages [891 kB]\n",
            "Get:10 https://ppa.launchpadcontent.net/graphics-drivers/ppa/ubuntu jammy InRelease [24.3 kB]\n",
            "Get:11 http://archive.ubuntu.com/ubuntu jammy-updates/universe amd64 Packages [1,378 kB]\n",
            "Hit:12 https://ppa.launchpadcontent.net/ubuntugis/ppa/ubuntu jammy InRelease\n",
            "Get:13 http://archive.ubuntu.com/ubuntu jammy-updates/main amd64 Packages [2,129 kB]\n",
            "Get:14 http://security.ubuntu.com/ubuntu jammy-security/main amd64 Packages [1,858 kB]\n",
            "Get:15 http://security.ubuntu.com/ubuntu jammy-security/universe amd64 Packages [1,085 kB]\n",
            "Fetched 7,627 kB in 8s (945 kB/s)\n",
            "Reading package lists... Done\n"
          ]
        }
      ],
      "source": [
        "import os\n",
        "# Find the latest version of spark 3.x  from https://downloads.apache.org/spark/ and enter as the spark version\n",
        "# For example:\n",
        "# spark_version = 'spark-3.5.1'\n",
        "spark_version = 'spark-3.5.1'\n",
        "os.environ['SPARK_VERSION']=spark_version\n",
        "\n",
        "# Install Spark and Java\n",
        "!apt-get update\n",
        "!apt-get install openjdk-11-jdk-headless -qq > /dev/null\n",
        "!wget -q https://downloads.apache.org/spark/$SPARK_VERSION/$SPARK_VERSION-bin-hadoop3.tgz\n",
        "!tar xf $SPARK_VERSION-bin-hadoop3.tgz\n",
        "!pip install -q findspark\n",
        "\n",
        "# Set Environment Variables\n",
        "os.environ[\"JAVA_HOME\"] = \"/usr/lib/jvm/java-11-openjdk-amd64\"\n",
        "os.environ[\"SPARK_HOME\"] = f\"/content/{spark_version}-bin-hadoop3\"\n",
        "\n",
        "# Import findspark and initialize.\n",
        "import findspark\n",
        "findspark.init()"
      ]
    },
    {
      "cell_type": "code",
      "execution_count": 2,
      "metadata": {
        "id": "KLz5M7sFpO0W"
      },
      "outputs": [],
      "source": [
        "# Import packages\n",
        "from pyspark.sql import SparkSession\n",
        "# Import the time module so we can time our queries.\n",
        "import time\n",
        "\n",
        "# Create a SparkSession\n",
        "spark = SparkSession.builder.appName(\"SparkSQL\").config(\"spark.driver.memory\", \"2g\").getOrCreate()"
      ]
    },
    {
      "cell_type": "code",
      "execution_count": 3,
      "metadata": {
        "colab": {
          "base_uri": "https://localhost:8080/"
        },
        "id": "CahJMb3cpWdW",
        "outputId": "34967d60-8b20-4197-d574-db112b094a04"
      },
      "outputs": [
        {
          "output_type": "stream",
          "name": "stdout",
          "text": [
            "+----------------+----+-------+-----+-----+----------+-------------------+----------------+------------+--------------------+----------------+--------------------+-------------+--------------------+----------+--------------------+--------------------+--------------------+\n",
            "|ISN_DOB_BIS_VIOL|BORO|    BIN|BLOCK|  LOT|ISSUE_DATE|VIOLATION_TYPE_CODE|VIOLATION_NUMBER|HOUSE_NUMBER|              STREET|DISPOSITION_DATE|DISPOSITION_COMMENTS|DEVICE_NUMBER|         DESCRIPTION|ECB_NUMBER|              NUMBER|  VIOLATION_CATEGORY|      VIOLATION_TYPE|\n",
            "+----------------+----+-------+-----+-----+----------+-------------------+----------------+------------+--------------------+----------------+--------------------+-------------+--------------------+----------+--------------------+--------------------+--------------------+\n",
            "|         2286033|   1|1009713|00577|00019|  20180507|                  E|     9027/627971|          34|        WEST 14TH ST|        20220509|PPN203 AOC SUB 05...|      1P13420|                NULL|      NULL|V*050718E9027/627971|V*-DOB VIOLATION ...|E-ELEVATOR       ...|\n",
            "|         2533639|   1|1082666|00333|00001|  20210629|                  E|     9027/705433|          77|     COLUMBIA STREET|        20220509|PPN203 AOC SUB 05...|      1P27474|                NULL|      NULL|V*062921E9027/705433|V*-DOB VIOLATION ...|E-ELEVATOR       ...|\n",
            "|         2347979|   1|1083846|01130|00001|  20190423|                  E|     9028/648125|         200|   CENTRAL PARK WEST|        20220509|PPN203 AOC SUBMIT...|      1P40861|                NULL|      NULL|V*042319E9028/648125|V*-DOB VIOLATION ...|E-ELEVATOR       ...|\n",
            "|         2566336|   1|1057155|01889|07502|  20211123|                  E|     9028/710097|         845|        WEST END AVE|        20220509|PPN203 AOC SUB 05...|      1P14972|                NULL|      NULL|V*112321E9028/710097|V*-DOB VIOLATION ...|E-ELEVATOR       ...|\n",
            "|         2487351|   1|1041456|01387|00021|  20200925|                  E|     9028/689200|          31|             E 72 ST|        20220509|PPN203 AOC SUB 05...|      1P10910|                NULL|      NULL|V*092520E9028/689200|V*-DOB VIOLATION ...|E-ELEVATOR       ...|\n",
            "|         2579117|   3|3212907|07717|00054|  20220427|            AEUHAZ1|           00322|        3420|        QUENTIN ROAD|        20220509|000810 PAID INVOI...|         NULL|FAILURE TO CERTIF...| 39055131L|V*042722AEUHAZ100322|V*-DOB VIOLATION ...|AEUHAZ1-FAIL TO C...|\n",
            "|         2224356|   4|4445407|16155|00021|  20171206|                  E|     9027/617490|         320|    BEACH 100 STREET|        20220509|PPN203 AOC SUBMIT...|       4P4846|                NULL|      NULL|V*120617E9027/617490|V*-DOB VIOLATION ...|E-ELEVATOR       ...|\n",
            "|         1501541|   1|1010847|00611|00053|  20100706|             LANDMK|         11-0004|          10|      CHARLES STREET|        20220509|                NULL|         NULL|                NULL|      NULL|V*070610LANDMK11-...|V*-DOB VIOLATION ...|LANDMK-LANDMARK  ...|\n",
            "|         2435215|   1|1012256|00662|00011|  20200115|                  E|     9028/667509|     PIER 59|         NORTH RIVER|        20220509|PPN203 AOC SUB 05...|      1W10006|                NULL|      NULL|V*011520E9028/667509|V*-DOB VIOLATION ...|E-ELEVATOR       ...|\n",
            "|         2504960|   3|3379016|01220|00019|  20210123|                  E|     9028/696197|         715|         ST MARKS AV|        20220509|PPN203 AOC SUB 05...|       3P3165|                NULL|      NULL|V*012321E9028/696197|V*-DOB VIOLATION ...|E-ELEVATOR       ...|\n",
            "|         2579114|   3|3212907|07717|00054|  20220427|            AEUHAZ1|           00319|        3420|        QUENTIN ROAD|        20220509|000810 PAID INVOI...|         NULL|FAILURE TO CERTIF...| 39055126R|V*042722AEUHAZ100319|V*-DOB VIOLATION ...|AEUHAZ1-FAIL TO C...|\n",
            "|         2347971|   1|1083846|01130|00001|  20190424|                  E|     9028/650040|         200|   CENTRAL PARK WEST|        20220509|PPN203 AOC SUBMIT...|      1P29222|                NULL|      NULL|V*042419E9028/650040|V*-DOB VIOLATION ...|E-ELEVATOR       ...|\n",
            "|         2347976|   1|1083846|01130|00001|  20190423|                  E|     9028/650049|         200|   CENTRAL PARK WEST|        20220509|PPN203 AOC SUBMIT...|      1P40856|                NULL|      NULL|V*042319E9028/650049|V*-DOB VIOLATION ...|E-ELEVATOR       ...|\n",
            "|         2310631|   3|3079907|03439|00020|  20180809|            AEUHAZ1|           00316|         76A|       COOPER STREET|        20220509|            90252351|         NULL|FAILURE TO CERTIF...| 35331209P|V*080918AEUHAZ100316|V*-DOB VIOLATION ...|AEUHAZ1-FAIL TO C...|\n",
            "|         2582207|   4|4227230|10640|00029|  20220430|                  C|          ER02MA|       91-17|          215 STREET|            NULL|                NULL|         NULL|STRUCTURE RENDERE...|      NULL|      V043022CER02MA|V-DOB VIOLATION -...|C-CONSTRUCTION   ...|\n",
            "|         2539906|   1|1038758|01337|07502|  20210723|                  E|     9028/704512|           1|UNITED NATIONS PLAZA|        20220509|PPN203 AOC SUBMIT...|      1P37657|                NULL|      NULL|V*072321E9028/704512|V*-DOB VIOLATION ...|E-ELEVATOR       ...|\n",
            "|         2428141|   3|3425712|06766|07503|  20191102|              BENCH|           01025|        2068|        OCEAN AVENUE|        20220509|  CHALLENGE APPROVED|         NULL|FAILURE TO FILE B...|      NULL|  V*110219BENCH01025|V*-DOB VIOLATION ...|BENCH-FAILURE TO ...|\n",
            "|         2543985|   3|3116537|05080|00036|  20210824|                  E|     9028/706976|          21|         ST PAULS CT|        20220509|PPN203 AOC SUB 05...|       3P2286|                NULL|      NULL|V*082421E9028/706976|V*-DOB VIOLATION ...|E-ELEVATOR       ...|\n",
            "|         1705186|   1|1010847|00611|00053|  20120926|             LANDMK|         13-0202|          10|      CHARLES STREET|        20220509|                NULL|         NULL|                NULL|      NULL|V*092612LANDMK13-...|V*-DOB VIOLATION ...|LANDMK-LANDMARK  ...|\n",
            "|         2533638|   1|1082666|00333|00001|  20210629|                  E|     9027/705432|          77|     COLUMBIA STREET|        20220509|PPN203 AOC SUB 05...|      1P27473|                NULL|      NULL|V*062921E9027/705432|V*-DOB VIOLATION ...|E-ELEVATOR       ...|\n",
            "+----------------+----+-------+-----+-----+----------+-------------------+----------------+------------+--------------------+----------------+--------------------+-------------+--------------------+----------+--------------------+--------------------+--------------------+\n",
            "only showing top 20 rows\n",
            "\n"
          ]
        }
      ],
      "source": [
        "# Read in data from S3 Bucket\n",
        "from pyspark import SparkFiles\n",
        "url = \"https://2u-data-curriculum-team.s3.amazonaws.com/dataviz-classroom/v1.2/22-big-data/3/NYC_Building_Violations.csv\"\n",
        "spark.sparkContext.addFile(url)\n",
        "df = spark.read.csv(SparkFiles.get(\"NYC_Building_Violations.csv\"), sep=\",\", header=True)\n",
        "df.show()"
      ]
    },
    {
      "cell_type": "code",
      "execution_count": 4,
      "metadata": {
        "colab": {
          "base_uri": "https://localhost:8080/"
        },
        "id": "S62v26TZLHso",
        "outputId": "bcfdfae0-6e7c-4df7-abf8-e0baf23b6a32"
      },
      "outputs": [
        {
          "output_type": "stream",
          "name": "stdout",
          "text": [
            "+-------+------------------+------------------+------------------+------------------+------------------+-------------------+-------------------+----------------+------------------+------------------+--------------------+--------------------+--------------------+--------------------+--------------------+------------------+--------------------+--------------------+\n",
            "|summary|  ISN_DOB_BIS_VIOL|              BORO|               BIN|             BLOCK|               LOT|         ISSUE_DATE|VIOLATION_TYPE_CODE|VIOLATION_NUMBER|      HOUSE_NUMBER|            STREET|    DISPOSITION_DATE|DISPOSITION_COMMENTS|       DEVICE_NUMBER|         DESCRIPTION|          ECB_NUMBER|            NUMBER|  VIOLATION_CATEGORY|      VIOLATION_TYPE|\n",
            "+-------+------------------+------------------+------------------+------------------+------------------+-------------------+-------------------+----------------+------------------+------------------+--------------------+--------------------+--------------------+--------------------+--------------------+------------------+--------------------+--------------------+\n",
            "|  count|           2249357|           2249355|           2246031|           2236515|           2237197|            2249356|            2249357|         2249352|           2248990|           2231958|             1689545|             1648487|             1657117|              709389|              201989|           2249316|             2249316|             2249302|\n",
            "|   mean|1306787.2474680543|2.3464668843595082| 2456521.062597088|2859.5119176387343|466.57405826225846|2.007073744908509E7|               NULL|             NaN|2783.2523214543485|          53.40625|2.0102321098843772E7| 3.162820579273005E7|            Infinity|            Infinity|       2.104617042E8|              NULL|                NULL|                NULL|\n",
            "| stddev| 743549.2550104015| 1.229949821701687|1297759.7392980545| 2880.056827063897| 1742.321617295465|  103289.9051134135|               NULL|             NaN| 31076.99272583018|20.639547655395813|   76857.25150439757|1.2270720877515715E8|                 NaN|                 NaN|1.9213306030514506E8|              NULL|                NULL|                NULL|\n",
            "|    min|                 1|                 0|           0000000|             .   6|                 0|           0   0612|                 7A|     #326375C301|            #G25FP|     '\\t15 AVENUE'|            12231998|\"DISMISSED, BC SW...| OBTAIN ALL PERMI...|                   #|                0000|V%*010110UB3135/10|C-CONSTRUCTION   ...|A-SEU            ...|\n",
            "|    25%|          669575.0|               1.0|         1055263.0|             950.0|              10.0|        2.0000207E7|               NULL|          1464.0|             137.0|              58.0|         2.0051104E7|            266001.0|             60232.0|                 1.0|                 0.0|              NULL|                NULL|                NULL|\n",
            "|    50%|         1309758.0|               2.0|         2806437.0|            1856.0|              30.0|        2.0080305E7|               NULL|          7535.0|             377.0|              63.0|         2.0120315E7|           1.33388E7|             87151.0|                 1.0|        3.48751536E8|              NULL|                NULL|                NULL|\n",
            "|    75%|         1947712.0|               3.0|         3331540.0|            3767.0|              55.0|        2.0150303E7|               NULL|         18930.0|            1094.0|              63.0|         2.0160718E7|         6.2037385E7|            815398.0|                 2.0|        3.49874984E8|              NULL|                NULL|                NULL|\n",
            "|    max|            999999|                 `|           9999993|             \\0459|             Q0007|           Y9990120|                  Z|            ¬TVW|               ¦04|       MAIN STREET|            20220619|                   ¦|              X10070|{74}REPLACE MISSI...|                   \\|VWH121602PL106HB01|VWH-VIOLATION WOR...|Z-ZONING         ...|\n",
            "+-------+------------------+------------------+------------------+------------------+------------------+-------------------+-------------------+----------------+------------------+------------------+--------------------+--------------------+--------------------+--------------------+--------------------+------------------+--------------------+--------------------+\n",
            "\n"
          ]
        }
      ],
      "source": [
        "# Get a summary of the data.\n",
        "df.summary().show()"
      ]
    },
    {
      "cell_type": "code",
      "execution_count": 5,
      "metadata": {
        "colab": {
          "base_uri": "https://localhost:8080/"
        },
        "id": "T7fsnqRDqG2C",
        "outputId": "8cb9eea6-9523-44b5-f5a3-dee281aafbfb"
      },
      "outputs": [
        {
          "output_type": "stream",
          "name": "stdout",
          "text": [
            "+--------------------+---------+\n",
            "|      VIOLATION_TYPE|sum(BORO)|\n",
            "+--------------------+---------+\n",
            "|LL10/80-LOCAL LAW...|   3609.0|\n",
            "|LL11/98-LOCAL LAW...|   9285.0|\n",
            "|HVIOS-NYCHA ELEV ...|    969.0|\n",
            "|P-PLUMBING       ...|  29480.0|\n",
            "|ACH1-(NYCHA) - EL...|   4949.0|\n",
            "|LANDMRK-LANDMARK ...|   5599.0|\n",
            "|LL5-LOCAL LAW 5/7...|   1363.0|\n",
            "|IMD-IMMEDIATE EME...|     13.0|\n",
            "|B-BOILER         ...|  17042.0|\n",
            "|FISP-FACADE SAFET...|   6889.0|\n",
            "|EGNCY-EMERGENCY  ...|  12607.0|\n",
            "|ES-ELECTRIC SIGNS...|  18378.0|\n",
            "|                NULL|    148.0|\n",
            "|L1198-LOCAL LAW 1...|  10656.0|\n",
            "|HBLVIO-HIGH PRESS...|  14628.0|\n",
            "|BENCH-FAILURE TO ...| 110285.0|\n",
            "|RWNRF-RETAINING W...|   4007.0|\n",
            "|FISPNRF-NO REPORT...|  21017.0|\n",
            "|LL2604-PHOTOLUMIN...|    679.0|\n",
            "|LL2604S-SPRINKLER...|   1513.0|\n",
            "+--------------------+---------+\n",
            "only showing top 20 rows\n",
            "\n",
            "--- 12.550715446472168 seconds ---\n"
          ]
        }
      ],
      "source": [
        " # Let's create a view with our DataFrame and run SQL that will sum up the boroughs by the type of violation.\n",
        "# We can output the time this step runs in seconds.\n",
        "# Because we are timing the executions, remember to run twice to eliminate the \"load time\" from the discussion.\n",
        "\n",
        "\n",
        "df.createOrReplaceTempView('violations')\n",
        "start_time = time.time()\n",
        "\n",
        "spark.sql(\"\"\"select VIOLATION_TYPE, sum(BORO) from violations group by 1\"\"\").show()\n",
        "\n",
        "print(\"--- %s seconds ---\" % (time.time() - start_time))\n",
        "\n"
      ]
    },
    {
      "cell_type": "code",
      "execution_count": 6,
      "metadata": {
        "id": "g04Evw2jqHoK"
      },
      "outputs": [],
      "source": [
        "# Write out the data in parquet format\n",
        "# Note: That this is pretty much the same as writing out to a csv to your local directory.\n",
        "# We are telling Spark to overwrite all of the data if it already exists\n",
        "df.write.parquet('parquet_violations', mode='overwrite')"
      ]
    },
    {
      "cell_type": "markdown",
      "metadata": {
        "id": "lYiTD19bHuV4"
      },
      "source": [
        "\n",
        "\n",
        "*   click the folder icon on the left of the notebook to expose the folders and files stored in your colab enviornment.  Notice that a new folder is present with the same name as your parquet file (parquet_title_basic)\n",
        "*   inside of it you will find 'part-*.parquet' files and a '_SUCCESS' file.\n",
        "*  The '_SUCCESS' file is created when Spark creates a Parquet folder\n",
        "*  the part-* files are binary files that store your compressed data in columnar format\n",
        "\n",
        "\n",
        "\n"
      ]
    },
    {
      "cell_type": "code",
      "execution_count": 7,
      "metadata": {
        "id": "2SaDjaQXqnPI"
      },
      "outputs": [],
      "source": [
        "# Read in our new parquet formatted data\n",
        "p_df=spark.read.parquet('parquet_violations')"
      ]
    },
    {
      "cell_type": "code",
      "execution_count": 8,
      "metadata": {
        "id": "sT7d4hu-q32d"
      },
      "outputs": [],
      "source": [
        "# A parquet formatted DataFrame has all the same methods as a row-based DataFrame\n",
        "# We can convert the DataFrame to a view.\n",
        "p_df.createOrReplaceTempView('p_violations')"
      ]
    },
    {
      "cell_type": "code",
      "execution_count": 9,
      "metadata": {
        "colab": {
          "base_uri": "https://localhost:8080/"
        },
        "id": "nwpUfAoeq71b",
        "outputId": "9b57ce9c-167b-49d7-979f-bb9e22a9fbf9"
      },
      "outputs": [
        {
          "output_type": "stream",
          "name": "stdout",
          "text": [
            "+--------------------+---------+\n",
            "|      VIOLATION_TYPE|sum(BORO)|\n",
            "+--------------------+---------+\n",
            "|LL10/80-LOCAL LAW...|   3609.0|\n",
            "|LL11/98-LOCAL LAW...|   9285.0|\n",
            "|HVIOS-NYCHA ELEV ...|    969.0|\n",
            "|P-PLUMBING       ...|  29480.0|\n",
            "|ACH1-(NYCHA) - EL...|   4949.0|\n",
            "|LANDMRK-LANDMARK ...|   5599.0|\n",
            "|LL5-LOCAL LAW 5/7...|   1363.0|\n",
            "|IMD-IMMEDIATE EME...|     13.0|\n",
            "|FISP-FACADE SAFET...|   6889.0|\n",
            "|B-BOILER         ...|  17042.0|\n",
            "|EGNCY-EMERGENCY  ...|  12607.0|\n",
            "|ES-ELECTRIC SIGNS...|  18378.0|\n",
            "|                NULL|    148.0|\n",
            "|L1198-LOCAL LAW 1...|  10656.0|\n",
            "|HBLVIO-HIGH PRESS...|  14628.0|\n",
            "|BENCH-FAILURE TO ...| 110285.0|\n",
            "|RWNRF-RETAINING W...|   4007.0|\n",
            "|FISPNRF-NO REPORT...|  21017.0|\n",
            "|LL2604-PHOTOLUMIN...|    679.0|\n",
            "|LL2604S-SPRINKLER...|   1513.0|\n",
            "+--------------------+---------+\n",
            "only showing top 20 rows\n",
            "\n",
            "--- 2.192277193069458 seconds ---\n"
          ]
        }
      ],
      "source": [
        "# Run the same sql as above.  (Note: If you have small datasets it IS possible that times may be very close.)\n",
        "# Because we are timing the executions, remember to run twice to eliminate the \"load time\" from the discussion.\n",
        "\n",
        "start_time = time.time()\n",
        "spark.sql(\"\"\"select VIOLATION_TYPE, sum(BORO) from p_violations group by 1\"\"\").show()\n",
        "print(\"--- %s seconds ---\" % (time.time() - start_time))"
      ]
    },
    {
      "cell_type": "code",
      "execution_count": 10,
      "metadata": {
        "id": "yZY1lKBHrjLg"
      },
      "outputs": [],
      "source": [
        "# Writing out a csv file from Spark will also create a folder with \"part\" files.\n",
        "# These files are not binary or compressed and in reality are just normal csv files broken into partitions.\n",
        "# You can see the folder 'out_violations.csv' in your local directory.\n",
        "df.write.csv('out_violations.csv', mode='overwrite')"
      ]
    },
    {
      "cell_type": "markdown",
      "metadata": {
        "id": "PI6YFKdovHRx"
      },
      "source": [
        "### Read a parquet file into a Pandas DataFrame"
      ]
    },
    {
      "cell_type": "code",
      "execution_count": 11,
      "metadata": {
        "id": "zit0gXHn4Hf2"
      },
      "outputs": [],
      "source": [
        "import pandas as pd"
      ]
    },
    {
      "cell_type": "code",
      "execution_count": 13,
      "metadata": {
        "colab": {
          "base_uri": "https://localhost:8080/",
          "height": 339
        },
        "id": "LqZaHXdgvHRx",
        "outputId": "7a7fbd7f-46b0-408a-8cc2-5949887a8b36"
      },
      "outputs": [
        {
          "output_type": "error",
          "ename": "FileNotFoundError",
          "evalue": "[Errno 2] No such file or directory: 'parquet_violations/part-00000-222c5822-8fe4-4450-97d0-65b5d4a334b4-c000.snappy.parquet'",
          "traceback": [
            "\u001b[0;31m---------------------------------------------------------------------------\u001b[0m",
            "\u001b[0;31mFileNotFoundError\u001b[0m                         Traceback (most recent call last)",
            "\u001b[0;32m<ipython-input-13-bafb433e951d>\u001b[0m in \u001b[0;36m<cell line: 6>\u001b[0;34m()\u001b[0m\n\u001b[1;32m      4\u001b[0m \u001b[0;34m\u001b[0m\u001b[0m\n\u001b[1;32m      5\u001b[0m \u001b[0;31m# Convert the parquet file to a Pandas DataFrame.\u001b[0m\u001b[0;34m\u001b[0m\u001b[0;34m\u001b[0m\u001b[0m\n\u001b[0;32m----> 6\u001b[0;31m \u001b[0mpart_00000_df\u001b[0m \u001b[0;34m=\u001b[0m \u001b[0mpd\u001b[0m\u001b[0;34m.\u001b[0m\u001b[0mread_parquet\u001b[0m\u001b[0;34m(\u001b[0m\u001b[0mparquet_file\u001b[0m\u001b[0;34m,\u001b[0m \u001b[0mengine\u001b[0m\u001b[0;34m=\u001b[0m\u001b[0;34m'auto'\u001b[0m\u001b[0;34m)\u001b[0m\u001b[0;34m\u001b[0m\u001b[0;34m\u001b[0m\u001b[0m\n\u001b[0m\u001b[1;32m      7\u001b[0m \u001b[0mpart_00000_df\u001b[0m\u001b[0;34m.\u001b[0m\u001b[0mhead\u001b[0m\u001b[0;34m(\u001b[0m\u001b[0;34m)\u001b[0m\u001b[0;34m\u001b[0m\u001b[0;34m\u001b[0m\u001b[0m\n",
            "\u001b[0;32m/usr/local/lib/python3.10/dist-packages/pandas/io/parquet.py\u001b[0m in \u001b[0;36mread_parquet\u001b[0;34m(path, engine, columns, storage_options, use_nullable_dtypes, dtype_backend, **kwargs)\u001b[0m\n\u001b[1;32m    507\u001b[0m     \u001b[0mcheck_dtype_backend\u001b[0m\u001b[0;34m(\u001b[0m\u001b[0mdtype_backend\u001b[0m\u001b[0;34m)\u001b[0m\u001b[0;34m\u001b[0m\u001b[0;34m\u001b[0m\u001b[0m\n\u001b[1;32m    508\u001b[0m \u001b[0;34m\u001b[0m\u001b[0m\n\u001b[0;32m--> 509\u001b[0;31m     return impl.read(\n\u001b[0m\u001b[1;32m    510\u001b[0m         \u001b[0mpath\u001b[0m\u001b[0;34m,\u001b[0m\u001b[0;34m\u001b[0m\u001b[0;34m\u001b[0m\u001b[0m\n\u001b[1;32m    511\u001b[0m         \u001b[0mcolumns\u001b[0m\u001b[0;34m=\u001b[0m\u001b[0mcolumns\u001b[0m\u001b[0;34m,\u001b[0m\u001b[0;34m\u001b[0m\u001b[0;34m\u001b[0m\u001b[0m\n",
            "\u001b[0;32m/usr/local/lib/python3.10/dist-packages/pandas/io/parquet.py\u001b[0m in \u001b[0;36mread\u001b[0;34m(self, path, columns, use_nullable_dtypes, dtype_backend, storage_options, **kwargs)\u001b[0m\n\u001b[1;32m    218\u001b[0m             \u001b[0mto_pandas_kwargs\u001b[0m\u001b[0;34m[\u001b[0m\u001b[0;34m\"split_blocks\"\u001b[0m\u001b[0;34m]\u001b[0m \u001b[0;34m=\u001b[0m \u001b[0;32mTrue\u001b[0m  \u001b[0;31m# type: ignore[assignment]\u001b[0m\u001b[0;34m\u001b[0m\u001b[0;34m\u001b[0m\u001b[0m\n\u001b[1;32m    219\u001b[0m \u001b[0;34m\u001b[0m\u001b[0m\n\u001b[0;32m--> 220\u001b[0;31m         path_or_handle, handles, kwargs[\"filesystem\"] = _get_path_or_handle(\n\u001b[0m\u001b[1;32m    221\u001b[0m             \u001b[0mpath\u001b[0m\u001b[0;34m,\u001b[0m\u001b[0;34m\u001b[0m\u001b[0;34m\u001b[0m\u001b[0m\n\u001b[1;32m    222\u001b[0m             \u001b[0mkwargs\u001b[0m\u001b[0;34m.\u001b[0m\u001b[0mpop\u001b[0m\u001b[0;34m(\u001b[0m\u001b[0;34m\"filesystem\"\u001b[0m\u001b[0;34m,\u001b[0m \u001b[0;32mNone\u001b[0m\u001b[0;34m)\u001b[0m\u001b[0;34m,\u001b[0m\u001b[0;34m\u001b[0m\u001b[0;34m\u001b[0m\u001b[0m\n",
            "\u001b[0;32m/usr/local/lib/python3.10/dist-packages/pandas/io/parquet.py\u001b[0m in \u001b[0;36m_get_path_or_handle\u001b[0;34m(path, fs, storage_options, mode, is_dir)\u001b[0m\n\u001b[1;32m    108\u001b[0m         \u001b[0;31m# fsspec resources can also point to directories\u001b[0m\u001b[0;34m\u001b[0m\u001b[0;34m\u001b[0m\u001b[0m\n\u001b[1;32m    109\u001b[0m         \u001b[0;31m# this branch is used for example when reading from non-fsspec URLs\u001b[0m\u001b[0;34m\u001b[0m\u001b[0;34m\u001b[0m\u001b[0m\n\u001b[0;32m--> 110\u001b[0;31m         handles = get_handle(\n\u001b[0m\u001b[1;32m    111\u001b[0m             \u001b[0mpath_or_handle\u001b[0m\u001b[0;34m,\u001b[0m \u001b[0mmode\u001b[0m\u001b[0;34m,\u001b[0m \u001b[0mis_text\u001b[0m\u001b[0;34m=\u001b[0m\u001b[0;32mFalse\u001b[0m\u001b[0;34m,\u001b[0m \u001b[0mstorage_options\u001b[0m\u001b[0;34m=\u001b[0m\u001b[0mstorage_options\u001b[0m\u001b[0;34m\u001b[0m\u001b[0;34m\u001b[0m\u001b[0m\n\u001b[1;32m    112\u001b[0m         )\n",
            "\u001b[0;32m/usr/local/lib/python3.10/dist-packages/pandas/io/common.py\u001b[0m in \u001b[0;36mget_handle\u001b[0;34m(path_or_buf, mode, encoding, compression, memory_map, is_text, errors, storage_options)\u001b[0m\n\u001b[1;32m    866\u001b[0m         \u001b[0;32melse\u001b[0m\u001b[0;34m:\u001b[0m\u001b[0;34m\u001b[0m\u001b[0;34m\u001b[0m\u001b[0m\n\u001b[1;32m    867\u001b[0m             \u001b[0;31m# Binary mode\u001b[0m\u001b[0;34m\u001b[0m\u001b[0;34m\u001b[0m\u001b[0m\n\u001b[0;32m--> 868\u001b[0;31m             \u001b[0mhandle\u001b[0m \u001b[0;34m=\u001b[0m \u001b[0mopen\u001b[0m\u001b[0;34m(\u001b[0m\u001b[0mhandle\u001b[0m\u001b[0;34m,\u001b[0m \u001b[0mioargs\u001b[0m\u001b[0;34m.\u001b[0m\u001b[0mmode\u001b[0m\u001b[0;34m)\u001b[0m\u001b[0;34m\u001b[0m\u001b[0;34m\u001b[0m\u001b[0m\n\u001b[0m\u001b[1;32m    869\u001b[0m         \u001b[0mhandles\u001b[0m\u001b[0;34m.\u001b[0m\u001b[0mappend\u001b[0m\u001b[0;34m(\u001b[0m\u001b[0mhandle\u001b[0m\u001b[0;34m)\u001b[0m\u001b[0;34m\u001b[0m\u001b[0;34m\u001b[0m\u001b[0m\n\u001b[1;32m    870\u001b[0m \u001b[0;34m\u001b[0m\u001b[0m\n",
            "\u001b[0;31mFileNotFoundError\u001b[0m: [Errno 2] No such file or directory: 'parquet_violations/part-00000-222c5822-8fe4-4450-97d0-65b5d4a334b4-c000.snappy.parquet'"
          ]
        }
      ],
      "source": [
        "# Open the parquet_violations folder and get the name of a file and edit the path to the parquet file.\n",
        "# Check for the correct file name, since the file number will change.\n",
        "parquet_file = \"parquet_violations/part-00000-222c5822-8fe4-4450-97d0-65b5d4a334b4-c000.snappy.parquet\"\n",
        "\n",
        "# Convert the parquet file to a Pandas DataFrame.\n",
        "part_00000_df = pd.read_parquet(parquet_file, engine='auto')\n",
        "part_00000_df.head()"
      ]
    },
    {
      "cell_type": "code",
      "execution_count": null,
      "metadata": {
        "id": "i2v-HqNZvHRy"
      },
      "outputs": [],
      "source": []
    }
  ],
  "metadata": {
    "colab": {
      "provenance": [],
      "include_colab_link": true
    },
    "kernelspec": {
      "display_name": "Python 3 (ipykernel)",
      "language": "python",
      "name": "python3"
    },
    "language_info": {
      "codemirror_mode": {
        "name": "ipython",
        "version": 3
      },
      "file_extension": ".py",
      "mimetype": "text/x-python",
      "name": "python",
      "nbconvert_exporter": "python",
      "pygments_lexer": "ipython3",
      "version": "3.10.13"
    },
    "vscode": {
      "interpreter": {
        "hash": "aee8b7b246df8f9039afb4144a1f6fd8d2ca17a180786b69acc140d282b71a49"
      }
    }
  },
  "nbformat": 4,
  "nbformat_minor": 0
}